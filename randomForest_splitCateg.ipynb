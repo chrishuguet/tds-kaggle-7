{
 "cells": [
  {
   "cell_type": "markdown",
   "metadata": {},
   "source": [
    "# Tutoriel Python"
   ]
  },
  {
   "cell_type": "markdown",
   "metadata": {},
   "source": [
    "Ce tutoriel a pour but de guider les personnes souhaitant utiliser Python pour participer au challenge.\n",
    "\n",
    "Il comporte cinq etapes :\n",
    "\n",
    "* Import des donnees\n",
    "* Analyse descriptive\n",
    "* Preparation des donnees\n",
    "* Creation d’un modele en cross validation\n",
    "* Calcul des predictions et soumission"
   ]
  },
  {
   "cell_type": "markdown",
   "metadata": {},
   "source": [
    "# Import des données"
   ]
  },
  {
   "cell_type": "markdown",
   "metadata": {},
   "source": [
    "Avant de rentrer dans le vif du sujet, importons quelques packages necessaires pour ce tutoriel :"
   ]
  },
  {
   "cell_type": "code",
   "execution_count": 1,
   "metadata": {
    "collapsed": false
   },
   "outputs": [],
   "source": [
    "import pandas as pd\n",
    "import numpy as np\n",
    "from sklearn.preprocessing import LabelEncoder\n",
    "from sklearn.cross_validation import KFold\n",
    "from sklearn.ensemble import RandomForestRegressor\n",
    "import matplotlib.pyplot as plt\n",
    "%matplotlib inline "
   ]
  },
  {
   "cell_type": "code",
   "execution_count": 2,
   "metadata": {
    "collapsed": false
   },
   "outputs": [],
   "source": [
    "# Librairie de visualisation super cool\n",
    "import seaborn as sns # pip install seaborn"
   ]
  },
  {
   "cell_type": "markdown",
   "metadata": {},
   "source": [
    "Les datasets sont sous format .csv. Vous pouvez les importer avec le code ci-dessous."
   ]
  },
  {
   "cell_type": "code",
   "execution_count": 24,
   "metadata": {
    "collapsed": false
   },
   "outputs": [],
   "source": [
    "train = pd.read_csv('D:/Dev/dataScience/kaggle/challenge_25_data/data/boites_medicaments_train.csv',\n",
    "                    encoding='utf-8',\n",
    "                    sep=';')\n",
    "\n",
    "test = pd.read_csv('D:/Dev/dataScience/kaggle/challenge_25_data/data/boites_medicaments_test.csv',\n",
    "                   encoding='utf-8', \n",
    "                   sep=';')"
   ]
  },
  {
   "cell_type": "code",
   "execution_count": 5,
   "metadata": {
    "collapsed": false
   },
   "outputs": [
    {
     "data": {
      "text/html": [
       "<div>\n",
       "<table border=\"1\" class=\"dataframe\">\n",
       "  <thead>\n",
       "    <tr style=\"text-align: right;\">\n",
       "      <th></th>\n",
       "      <th>libelle</th>\n",
       "      <th>libelle_plaquette</th>\n",
       "      <th>libelle_ampoule</th>\n",
       "      <th>libelle_flacon</th>\n",
       "      <th>libelle_tube</th>\n",
       "      <th>libelle_stylo</th>\n",
       "      <th>libelle_seringue</th>\n",
       "      <th>libelle_pilulier</th>\n",
       "      <th>libelle_sachet</th>\n",
       "      <th>libelle_comprime</th>\n",
       "      <th>libelle_gelule</th>\n",
       "      <th>libelle_film</th>\n",
       "      <th>libelle_poche</th>\n",
       "      <th>libelle_capsule</th>\n",
       "      <th>nb_plaquette</th>\n",
       "      <th>nb_ampoule</th>\n",
       "      <th>nb_flacon</th>\n",
       "      <th>nb_tube</th>\n",
       "      <th>nb_stylo</th>\n",
       "      <th>nb_seringue</th>\n",
       "      <th>nb_pilulier</th>\n",
       "      <th>nb_sachet</th>\n",
       "      <th>nb_comprime</th>\n",
       "      <th>nb_gelule</th>\n",
       "      <th>nb_film</th>\n",
       "      <th>nb_poche</th>\n",
       "      <th>nb_capsule</th>\n",
       "      <th>nb_ml</th>\n",
       "      <th>statut</th>\n",
       "      <th>etat commerc</th>\n",
       "      <th>agrement col</th>\n",
       "      <th>tx rembours</th>\n",
       "      <th>forme pharma</th>\n",
       "      <th>voies admin</th>\n",
       "      <th>statut admin</th>\n",
       "      <th>date declar annee</th>\n",
       "      <th>date amm annee</th>\n",
       "      <th>type proc</th>\n",
       "      <th>titulaires</th>\n",
       "      <th>substances</th>\n",
       "      <th>prix</th>\n",
       "    </tr>\n",
       "  </thead>\n",
       "  <tbody>\n",
       "    <tr>\n",
       "      <th>0</th>\n",
       "      <td>3 plaquette(s) thermoformée(s) PVC-Aluminium d...</td>\n",
       "      <td>1</td>\n",
       "      <td>0</td>\n",
       "      <td>0</td>\n",
       "      <td>0</td>\n",
       "      <td>0</td>\n",
       "      <td>0</td>\n",
       "      <td>0</td>\n",
       "      <td>0</td>\n",
       "      <td>1</td>\n",
       "      <td>0</td>\n",
       "      <td>0</td>\n",
       "      <td>0</td>\n",
       "      <td>0</td>\n",
       "      <td>3</td>\n",
       "      <td>0</td>\n",
       "      <td>0</td>\n",
       "      <td>0</td>\n",
       "      <td>0</td>\n",
       "      <td>0</td>\n",
       "      <td>0</td>\n",
       "      <td>0</td>\n",
       "      <td>28</td>\n",
       "      <td>0</td>\n",
       "      <td>0</td>\n",
       "      <td>0</td>\n",
       "      <td>0</td>\n",
       "      <td>0.0</td>\n",
       "      <td>Présentation active</td>\n",
       "      <td>Déclaration de commercialisation</td>\n",
       "      <td>oui</td>\n",
       "      <td>65%</td>\n",
       "      <td>comprimé pelliculé</td>\n",
       "      <td>orale</td>\n",
       "      <td>Autorisation active</td>\n",
       "      <td>2014</td>\n",
       "      <td>2014</td>\n",
       "      <td>Procédure décentralisée</td>\n",
       "      <td>MAJORELLE LUXEMBOURG SOPARFI (LUXEMBOURG)</td>\n",
       "      <td>DÉSOGESTREL</td>\n",
       "      <td>2.83</td>\n",
       "    </tr>\n",
       "    <tr>\n",
       "      <th>1</th>\n",
       "      <td>plaquette(s) thermoformée(s) aluminium de 28 c...</td>\n",
       "      <td>1</td>\n",
       "      <td>0</td>\n",
       "      <td>0</td>\n",
       "      <td>0</td>\n",
       "      <td>0</td>\n",
       "      <td>0</td>\n",
       "      <td>0</td>\n",
       "      <td>0</td>\n",
       "      <td>1</td>\n",
       "      <td>0</td>\n",
       "      <td>0</td>\n",
       "      <td>0</td>\n",
       "      <td>0</td>\n",
       "      <td>0</td>\n",
       "      <td>0</td>\n",
       "      <td>0</td>\n",
       "      <td>0</td>\n",
       "      <td>0</td>\n",
       "      <td>0</td>\n",
       "      <td>0</td>\n",
       "      <td>0</td>\n",
       "      <td>28</td>\n",
       "      <td>0</td>\n",
       "      <td>0</td>\n",
       "      <td>0</td>\n",
       "      <td>0</td>\n",
       "      <td>0.0</td>\n",
       "      <td>Présentation active</td>\n",
       "      <td>Déclaration de commercialisation</td>\n",
       "      <td>oui</td>\n",
       "      <td>65%</td>\n",
       "      <td>comprimé à croquer</td>\n",
       "      <td>orale</td>\n",
       "      <td>Autorisation active</td>\n",
       "      <td>2013</td>\n",
       "      <td>2009</td>\n",
       "      <td>Procédure de reconnaissance mutuelle</td>\n",
       "      <td>TEVA SANTE</td>\n",
       "      <td>MONTÉLUKAST ACIDE, MONTÉLUKAST SODIQUE</td>\n",
       "      <td>14.30</td>\n",
       "    </tr>\n",
       "    <tr>\n",
       "      <th>2</th>\n",
       "      <td>plaquette(s) thermoformée(s) PVC-aluminium de ...</td>\n",
       "      <td>1</td>\n",
       "      <td>0</td>\n",
       "      <td>0</td>\n",
       "      <td>0</td>\n",
       "      <td>0</td>\n",
       "      <td>0</td>\n",
       "      <td>0</td>\n",
       "      <td>0</td>\n",
       "      <td>0</td>\n",
       "      <td>1</td>\n",
       "      <td>0</td>\n",
       "      <td>0</td>\n",
       "      <td>0</td>\n",
       "      <td>0</td>\n",
       "      <td>0</td>\n",
       "      <td>0</td>\n",
       "      <td>0</td>\n",
       "      <td>0</td>\n",
       "      <td>0</td>\n",
       "      <td>0</td>\n",
       "      <td>0</td>\n",
       "      <td>0</td>\n",
       "      <td>30</td>\n",
       "      <td>0</td>\n",
       "      <td>0</td>\n",
       "      <td>0</td>\n",
       "      <td>0.0</td>\n",
       "      <td>Présentation active</td>\n",
       "      <td>Déclaration de commercialisation</td>\n",
       "      <td>oui</td>\n",
       "      <td>65%</td>\n",
       "      <td>gélule à libération prolongée</td>\n",
       "      <td>orale</td>\n",
       "      <td>Autorisation active</td>\n",
       "      <td>2000</td>\n",
       "      <td>1996</td>\n",
       "      <td>Procédure nationale</td>\n",
       "      <td>MYLAN SAS</td>\n",
       "      <td>CHLORHYDRATE DE DILTIAZEM</td>\n",
       "      <td>5.66</td>\n",
       "    </tr>\n",
       "  </tbody>\n",
       "</table>\n",
       "</div>"
      ],
      "text/plain": [
       "                                             libelle  libelle_plaquette  \\\n",
       "0  3 plaquette(s) thermoformée(s) PVC-Aluminium d...                  1   \n",
       "1  plaquette(s) thermoformée(s) aluminium de 28 c...                  1   \n",
       "2  plaquette(s) thermoformée(s) PVC-aluminium de ...                  1   \n",
       "\n",
       "   libelle_ampoule  libelle_flacon  libelle_tube  libelle_stylo  \\\n",
       "0                0               0             0              0   \n",
       "1                0               0             0              0   \n",
       "2                0               0             0              0   \n",
       "\n",
       "   libelle_seringue  libelle_pilulier  libelle_sachet  libelle_comprime  \\\n",
       "0                 0                 0               0                 1   \n",
       "1                 0                 0               0                 1   \n",
       "2                 0                 0               0                 0   \n",
       "\n",
       "   libelle_gelule  libelle_film  libelle_poche  libelle_capsule  nb_plaquette  \\\n",
       "0               0             0              0                0             3   \n",
       "1               0             0              0                0             0   \n",
       "2               1             0              0                0             0   \n",
       "\n",
       "   nb_ampoule  nb_flacon  nb_tube  nb_stylo  nb_seringue  nb_pilulier  \\\n",
       "0           0          0        0         0            0            0   \n",
       "1           0          0        0         0            0            0   \n",
       "2           0          0        0         0            0            0   \n",
       "\n",
       "   nb_sachet  nb_comprime  nb_gelule  nb_film  nb_poche  nb_capsule  nb_ml  \\\n",
       "0          0           28          0        0         0           0    0.0   \n",
       "1          0           28          0        0         0           0    0.0   \n",
       "2          0            0         30        0         0           0    0.0   \n",
       "\n",
       "                statut                      etat commerc agrement col  \\\n",
       "0  Présentation active  Déclaration de commercialisation          oui   \n",
       "1  Présentation active  Déclaration de commercialisation          oui   \n",
       "2  Présentation active  Déclaration de commercialisation          oui   \n",
       "\n",
       "  tx rembours                   forme pharma voies admin         statut admin  \\\n",
       "0         65%             comprimé pelliculé       orale  Autorisation active   \n",
       "1         65%             comprimé à croquer       orale  Autorisation active   \n",
       "2         65%  gélule à libération prolongée       orale  Autorisation active   \n",
       "\n",
       "   date declar annee  date amm annee                             type proc  \\\n",
       "0               2014            2014               Procédure décentralisée   \n",
       "1               2013            2009  Procédure de reconnaissance mutuelle   \n",
       "2               2000            1996                   Procédure nationale   \n",
       "\n",
       "                                   titulaires  \\\n",
       "0   MAJORELLE LUXEMBOURG SOPARFI (LUXEMBOURG)   \n",
       "1                                  TEVA SANTE   \n",
       "2                                   MYLAN SAS   \n",
       "\n",
       "                               substances   prix  \n",
       "0                             DÉSOGESTREL   2.83  \n",
       "1  MONTÉLUKAST ACIDE, MONTÉLUKAST SODIQUE  14.30  \n",
       "2               CHLORHYDRATE DE DILTIAZEM   5.66  "
      ]
     },
     "execution_count": 5,
     "metadata": {},
     "output_type": "execute_result"
    }
   ],
   "source": [
    "pd.set_option(\"display.max_columns\", 99) # permet de voir toutes les colonnes\n",
    "train.head(3)"
   ]
  },
  {
   "cell_type": "markdown",
   "metadata": {},
   "source": [
    "On est maintenant pret a attaquer les choses serieuses ! :)"
   ]
  },
  {
   "cell_type": "markdown",
   "metadata": {},
   "source": [
    "# Analyse descriptive"
   ]
  },
  {
   "cell_type": "markdown",
   "metadata": {},
   "source": [
    "### Structure des datasets\n",
    "\n",
    "Le dataset ```train``` comporte les caracteristiques et prix de 8564 boites de medicaments. C'est ce dataset que nous allons utiliser pour creer un modele.\n",
    "Chaque boite de medicament est decrite par une observation de 41 variables. Ces variables sont decrites dans le fichier `Description.pdf` present dans la cle usb.\n",
    "\n",
    "Le dataset ```test``` comporte les caracteristiques des 3671 boites de medicaments dont il faut predire le prix. A la difference de ```train```, le prix des boites de medicaments n'est bien sur pas inclus et une colonne `id` a ete ajoutée pour identifier les boites de medicaments pendant l'etape de soumission des predictions sur [Datascience.net](www.datascience.net)"
   ]
  },
  {
   "cell_type": "markdown",
   "metadata": {},
   "source": [
    "### Distribution des donnees\n",
    "\n",
    "Jetons maintenant un coup d'oeil a la distribution des donnees"
   ]
  },
  {
   "cell_type": "code",
   "execution_count": 25,
   "metadata": {
    "collapsed": false,
    "scrolled": true
   },
   "outputs": [
    {
     "data": {
      "text/plain": [
       "<matplotlib.axes._subplots.AxesSubplot at 0xc285588>"
      ]
     },
     "execution_count": 25,
     "metadata": {},
     "output_type": "execute_result"
    },
    {
     "data": {
      "image/png": "[encoded data removed]",
      "text/plain": [
       "<matplotlib.figure.Figure at 0xc2858d0>"
      ]
     },
     "metadata": {},
     "output_type": "display_data"
    }
   ],
   "source": [
    "# Distribution du log des prix\n",
    "# On prend le log des prix car sa distribution est plus proche d'une gaussienne\n",
    "train['logprix'] = train['prix'].apply(np.log)\n",
    "train['logprix'].hist()"
   ]
  },
  {
   "cell_type": "markdown",
   "metadata": {},
   "source": [
    "Essai avec une sortie \"log prix unitaire\" au lieu de \"log prix\"\n",
    "prix unitaire = nb de supports (plaquette, ampoule, flacon,...) * quantité par support (comprimés, gélule, ml,...)"
   ]
  },
  {
   "cell_type": "code",
   "execution_count": 51,
   "metadata": {
    "collapsed": true
   },
   "outputs": [],
   "source": [
    "## chu\n",
    "train['cst1'] = 1\n",
    "test['cst1'] = 1\n",
    "train['nb'] = (train[['nb_plaquette', 'nb_ampoule', 'nb_flacon', 'nb_tube', 'nb_ampoule', 'nb_flacon', 'nb_tube', \n",
    "              'nb_stylo', 'nb_seringue', 'nb_pilulier', 'nb_sachet', 'nb_film', 'nb_poche', 'cst1']].max(axis=1) \n",
    "              * train[['nb_comprime', 'nb_gelule', 'nb_capsule', 'nb_ml', 'cst1']].max(axis=1))\n",
    "test['nb'] = (test[['nb_plaquette', 'nb_ampoule', 'nb_flacon', 'nb_tube', 'nb_ampoule', 'nb_flacon', 'nb_tube', \n",
    "              'nb_stylo', 'nb_seringue', 'nb_pilulier', 'nb_sachet', 'nb_film', 'nb_poche', 'cst1']].max(axis=1) \n",
    "              * test[['nb_comprime', 'nb_gelule', 'nb_capsule', 'nb_ml', 'cst1']].max(axis=1))"
   ]
  },
  {
   "cell_type": "code",
   "execution_count": 54,
   "metadata": {
    "collapsed": false
   },
   "outputs": [
    {
     "data": {
      "text/plain": [
       "<matplotlib.axes._subplots.AxesSubplot at 0x121a1128>"
      ]
     },
     "execution_count": 54,
     "metadata": {},
     "output_type": "execute_result"
    },
    {
     "data": {
      "image/png": "[encoded data removed]",
      "text/plain": [
       "<matplotlib.figure.Figure at 0xc01c7f0>"
      ]
     },
     "metadata": {},
     "output_type": "display_data"
    }
   ],
   "source": [
    "# Visualisation distribution 'logprixunit'\n",
    "train['prixunit'] = train['nb'] * train['prix']\n",
    "train['logprixunit'] = train['prixunit'].apply(np.log)\n",
    "train['logprixunit'].hist()\n",
    "# la distribution est plus éloignée d'une gaussienne que pour 'logprix'. \n",
    "# L'évaluation du modèle avec la sortie 'logprixunit' est effectivement moins permormante (+ 7/8%)"
   ]
  },
  {
   "cell_type": "code",
   "execution_count": 26,
   "metadata": {
    "collapsed": false
   },
   "outputs": [
    {
     "data": {
      "text/plain": [
       "<matplotlib.axes._subplots.AxesSubplot at 0xfaf12b0>"
      ]
     },
     "execution_count": 26,
     "metadata": {},
     "output_type": "execute_result"
    },
    {
     "data": {
      "image/png": "[encoded data removed]",
      "text/plain": [
       "<matplotlib.figure.Figure at 0xfb0b630>"
      ]
     },
     "metadata": {},
     "output_type": "display_data"
    }
   ],
   "source": [
    "# Influence sur les prix de la feature \"tx rembours\"\n",
    "sns.violinplot(y=\"logprix\", x=\"tx rembours\", data=train)"
   ]
  },
  {
   "cell_type": "code",
   "execution_count": 10,
   "metadata": {
    "collapsed": false
   },
   "outputs": [
    {
     "data": {
      "text/plain": [
       "<matplotlib.axes._subplots.AxesSubplot at 0xd69c5f8>"
      ]
     },
     "execution_count": 10,
     "metadata": {},
     "output_type": "execute_result"
    },
    {
     "data": {
      "image/png": "[encoded data removed]",
      "text/plain": [
       "<matplotlib.figure.Figure at 0xc615630>"
      ]
     },
     "metadata": {},
     "output_type": "display_data"
    }
   ],
   "source": [
    "# Influence sur les prix de la feature \"statut\"\n",
    "sns.boxplot(y=\"logprix\", x=\"statut\", data=train)"
   ]
  },
  {
   "cell_type": "markdown",
   "metadata": {},
   "source": [
    "# Preparation des donnees"
   ]
  },
  {
   "cell_type": "markdown",
   "metadata": {},
   "source": [
    "### Types de features"
   ]
  },
  {
   "cell_type": "code",
   "execution_count": 27,
   "metadata": {
    "collapsed": false
   },
   "outputs": [],
   "source": [
    "# features numériques\n",
    "feat_num = ['libelle_plaquette', 'libelle_ampoule', 'libelle_flacon', \n",
    "            'libelle_tube', 'libelle_stylo', 'libelle_seringue',\n",
    "            'libelle_pilulier', 'libelle_sachet', 'libelle_comprime', \n",
    "            'libelle_gelule', 'libelle_film', 'libelle_poche',\n",
    "            'libelle_capsule'] + ['nb_plaquette', 'nb_ampoule', \n",
    "            'nb_flacon', 'nb_tube', 'nb_stylo', 'nb_seringue',\n",
    "            'nb_pilulier', 'nb_sachet', 'nb_comprime', 'nb_gelule', \n",
    "            'nb_film', 'nb_poche', 'nb_capsule', 'nb_ml']\n",
    "# features date\n",
    "feat_dates = ['date declar annee', 'date amm annee']\n",
    "# features catégorielles\n",
    "feat_cat = ['statut', 'etat commerc', 'agrement col', 'tx rembours',\n",
    "          'voies admin', 'statut admin', 'type proc']\n",
    "# features texte\n",
    "feat_text = ['libelle', 'titulaires', 'substances', 'forme pharma']"
   ]
  },
  {
   "cell_type": "markdown",
   "metadata": {},
   "source": [
    "### Encodage des features catégorielles\n",
    "\n",
    "Les algorithmes de machine learning s'attendent à avoir en entrée des nombres, et non pas des chaînes de caractères. C'est pourquoi nous transformons les features catégorielles en nombres, à l'aide de LabelEncoder()"
   ]
  },
  {
   "cell_type": "code",
   "execution_count": 28,
   "metadata": {
    "collapsed": false
   },
   "outputs": [],
   "source": [
    "for c in feat_cat:\n",
    "    le = LabelEncoder()\n",
    "    le.fit(train[c].append(test[c]))\n",
    "    train[c] = le.transform(train[c])\n",
    "    test[c] = le.transform(test[c])"
   ]
  },
  {
   "cell_type": "markdown",
   "metadata": {},
   "source": [
    " ### Split des catégories multi-valeurs\n",
    " Les catégories dont les valeurs sont des listes d'éléments sont développées sous forme de n catégories binaires (n étant le nombre d'éléments distincts pour la catégorie dans le dataset) "
   ]
  },
  {
   "cell_type": "code",
   "execution_count": 32,
   "metadata": {
    "collapsed": false
   },
   "outputs": [],
   "source": [
    "## chug\n",
    "def expandedOHE(train_df, test_df, colName):\n",
    "    # type: (DataFrame, DataFrame, str) -> *str\n",
    "    distinctCategs = (train_df[colName]\n",
    "                      .apply(lambda st : st.split(','))\n",
    "                      .apply(pd.Series)\n",
    "                      .unstack()\n",
    "                      .dropna()\n",
    "                      .str.strip()\n",
    "                      .unique())\n",
    "    for categorie in distinctCategs:\n",
    "        train_df[categorie] = train_df[colName].apply(lambda x : 1 if categorie in x else 0)\n",
    "        test_df[categorie] = test_df[colName].apply(lambda x : 1 if categorie in x else 0)\n",
    "    return list(distinctCategs) "
   ]
  },
  {
   "cell_type": "code",
   "execution_count": 33,
   "metadata": {
    "collapsed": false
   },
   "outputs": [],
   "source": [
    "## chug : le split de la categorie \"substances\" permet de passer de 45 à 32%\n",
    "feat_substances = expandedOHE(train, test, 'substances') \n",
    "\n",
    "## le split de la categorie \"voies admin\" dégrade l'estimation\n",
    "#feat_substances = expandedOHE(train, test, 'substances') "
   ]
  },
  {
   "cell_type": "code",
   "execution_count": 36,
   "metadata": {
    "collapsed": false
   },
   "outputs": [
    {
     "data": {
      "text/plain": [
       "0    0\n",
       "1    0\n",
       "2    1\n",
       "Name: CHLORHYDRATE DE DILTIAZEM, dtype: int64"
      ]
     },
     "execution_count": 36,
     "metadata": {},
     "output_type": "execute_result"
    }
   ],
   "source": [
    "train['CHLORHYDRATE DE DILTIAZEM'].head(3)"
   ]
  },
  {
   "cell_type": "markdown",
   "metadata": {},
   "source": [
    "# Creation d'un modele\n",
    "\n",
    "Il est maintenant temps de creer un modele. Dans ce tutoriel nous allons construire une [Foret Aleatoire](https://fr.wikipedia.org/wiki/For%C3%AAt_d'arbres_d%C3%A9cisionnels)\n",
    "\n",
    "Pour ce faire nous utilisons toutes les variables dont nous disposons, sauf les variables de type \"texte\".\n",
    "\n",
    "Pour eviter le [surapprentissage](https://fr.wikipedia.org/wiki/Surapprentissage) et estimer les vraies performances de notre modele nous allons utiliser le critère de [validation croisee](https://fr.wikipedia.org/wiki/Validation_crois%C3%A9e) (cross-validation) methode k-fold."
   ]
  },
  {
   "cell_type": "markdown",
   "metadata": {},
   "source": [
    "### Métrique MAPE\n",
    "\n",
    "La métrique MAPE n'étant pas disponible dans scikit-learn, nous la codons"
   ]
  },
  {
   "cell_type": "code",
   "execution_count": 37,
   "metadata": {
    "collapsed": true
   },
   "outputs": [],
   "source": [
    "# Mean Absolute Percentage Error\n",
    "def mape_error(y_true, y_pred): \n",
    "    return np.mean(np.abs((y_true - y_pred) / y_true)) * 100"
   ]
  },
  {
   "cell_type": "markdown",
   "metadata": {},
   "source": [
    "### Cross validation"
   ]
  },
  {
   "cell_type": "code",
   "execution_count": 56,
   "metadata": {
    "collapsed": false
   },
   "outputs": [
    {
     "name": "stdout",
     "output_type": "stream",
     "text": [
      "33.3527281061\n",
      "38.5169300114\n",
      "33.3072497645\n",
      "36.2011610522\n",
      "30.7308911441\n",
      "*** MAPE Error :  34.4217920157\n"
     ]
    }
   ],
   "source": [
    "err = 0\n",
    "NBROUND = 5\n",
    "FEATURES = feat_num + feat_cat + feat_substances ## chug on ajoute les feat_substances\n",
    "for train_index, test_index in KFold(train.shape[0], n_folds=NBROUND):\n",
    "    y = train['logprix']\n",
    "    X = train[FEATURES]\n",
    "    X_train, X_test = X.ix[train_index, :], X.ix[test_index, :]\n",
    "    y_train, y_test = y[train_index], y[test_index]\n",
    "    clf = RandomForestRegressor()\n",
    "    clf.fit(X_train, y_train)\n",
    "    pred = clf.predict(X_test)\n",
    "    # ne pas oublier de reprendre l'exponentielle de la prédiction\n",
    "    err += mape_error(np.exp(y_test), np.exp(pred))\n",
    "    print mape_error(np.exp(y_test), np.exp(pred))\n",
    "print \"*** MAPE Error : \", err / NBROUND"
   ]
  },
  {
   "cell_type": "markdown",
   "metadata": {},
   "source": [
    "Cela veut dire notre modele predit les prix des medicaments avec environ 65% d’erreur en moyenne. Par exemple, si un medicament vaut reellement 10€, notre prediction sera de 16.5€ (ou 3.5€).\n",
    "\n",
    "## chug\n",
    "Estimations de base : 65%\n",
    "\n",
    "Optimisations :\n",
    "- Ajout catégorie \"substances\" : 45%\n",
    "- Ajout catégorie \"substances splitées\" : 33%\n",
    "\n",
    "Dégradations :\n",
    "- logprixnuit : +7/8%"
   ]
  },
  {
   "cell_type": "markdown",
   "metadata": {},
   "source": [
    "# Calcul des predictions et soumission"
   ]
  },
  {
   "cell_type": "code",
   "execution_count": 18,
   "metadata": {
    "collapsed": false
   },
   "outputs": [],
   "source": [
    "clf = RandomForestRegressor()\n",
    "# On entraine de nouveau le modèle, cette fois sur l'intégralité des données\n",
    "clf.fit(train[FEATURES], train['logprix'])\n",
    "predictions = np.exp(clf.predict(test[FEATURES]))"
   ]
  },
  {
   "cell_type": "code",
   "execution_count": 19,
   "metadata": {
    "collapsed": true
   },
   "outputs": [],
   "source": [
    "pd.DataFrame(predictions, index=test['id']).to_csv('soumission.csv',  \n",
    "                          header=['prix'],\n",
    "                          sep = ';')"
   ]
  },
  {
   "cell_type": "markdown",
   "metadata": {},
   "source": [
    "Vous etes maintenant pret ? Faites votre premiere soumission en uplodant le fichier `soumission.csv` sur [Datascience.net](www.datascience.net)"
   ]
  }
 ],
 "metadata": {
  "anaconda-cloud": {},
  "kernelspec": {
   "display_name": "Python [default]",
   "language": "python",
   "name": "python2"
  },
  "language_info": {
   "codemirror_mode": {
    "name": "ipython",
    "version": 2
   },
   "file_extension": ".py",
   "mimetype": "text/x-python",
   "name": "python",
   "nbconvert_exporter": "python",
   "pygments_lexer": "ipython2",
   "version": "2.7.12"
  }
 },
 "nbformat": 4,
 "nbformat_minor": 0
}
